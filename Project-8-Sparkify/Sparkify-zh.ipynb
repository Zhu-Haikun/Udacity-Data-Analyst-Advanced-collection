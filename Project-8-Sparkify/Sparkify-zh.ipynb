{
 "cells": [
  {
   "cell_type": "markdown",
   "metadata": {},
   "source": [
    "# Sparkify 项目 Workspace\n",
    "这个 Workspace 包括一个迷你的子数据集（128MB），是完整数据集（12GB）的一个子集。在将你的项目部署到云上之前，你可以自由使用 Workspace 来创建你的项目或用Spark来探索这个较小数据集。设置 Spark 集群的指南可以在选修 Spark 课程的内容里找到。\n",
    "\n",
    "你可以依照下面的步骤进行项目的数据分析和模型搭建部分。"
   ]
  },
  {
   "cell_type": "markdown",
   "metadata": {},
   "source": [
    "# 1.加载库"
   ]
  },
  {
   "cell_type": "code",
   "execution_count": 1,
   "metadata": {},
   "outputs": [],
   "source": [
    "# import libraries\n",
    "import pandas as pd\n",
    "import numpy as np\n",
    "import seaborn as sns\n",
    "%matplotlib inline\n",
    "import matplotlib.pyplot as plt\n",
    "\n",
    "# import spark EDA lib\n",
    "import pyspark\n",
    "from pyspark import SparkConf\n",
    "from pyspark.sql import SparkSession\n",
    "from pyspark.sql.types import IntegerType\n",
    "from pyspark.sql.functions import sum, avg, col, desc, concat, explode, lit, max, min, udf, split\n",
    "from pyspark.sql import Window\n",
    "\n",
    "# import spark machine learning lib\n",
    "from pyspark.ml.classification import LogisticRegression, LinearSVC, RandomForestClassifier\n",
    "from pyspark.ml.feature import StandardScaler, VectorAssembler\n",
    "from pyspark.ml.evaluation import MulticlassClassificationEvaluator\n",
    "from pyspark.ml.tuning import CrossValidator, ParamGridBuilder\n",
    "\n",
    "# import time lib\n",
    "from time import time"
   ]
  },
  {
   "cell_type": "markdown",
   "metadata": {},
   "source": [
    "> 由于项目要求，需要提供github项目地址，但github免费版对上传数据有限制，不能上传大于100MB的文件，需要将原有128MB数据集进行压缩，压缩格式使用bz2，在此格式下，pyspark可以直接读取数据集。"
   ]
  },
  {
   "cell_type": "markdown",
   "metadata": {},
   "source": [
    "- Mac OS下，通过Terminal使用如下命令将数据集压缩\n",
    "\n",
    "```\n",
    "$ bzip2 -z mini_sparkify_event_data.json\n",
    "```\n",
    "\n",
    "压缩后数据容量大幅减小，由原来的128MB变为6.4MB\n",
    "\n",
    "> **注意：使用此命令后会删除被压缩的文件**"
   ]
  },
  {
   "cell_type": "code",
   "execution_count": 2,
   "metadata": {},
   "outputs": [],
   "source": [
    "# create a Spark session\n",
    "spark = SparkSession \\\n",
    "    .builder \\\n",
    "    .appName(\"Sparkify_Spark_Sql_Session\") \\\n",
    "    .getOrCreate()"
   ]
  },
  {
   "cell_type": "code",
   "execution_count": 3,
   "metadata": {},
   "outputs": [
    {
     "data": {
      "text/plain": [
       "[('spark.driver.host', '63df17717f82'),\n",
       " ('spark.driver.port', '46149'),\n",
       " ('spark.rdd.compress', 'True'),\n",
       " ('spark.serializer.objectStreamReset', '100'),\n",
       " ('spark.app.id', 'local-1582389450147'),\n",
       " ('spark.master', 'local[*]'),\n",
       " ('spark.executor.id', 'driver'),\n",
       " ('spark.submit.deployMode', 'client'),\n",
       " ('spark.app.name', 'Sparkify_Spark_Sql_Session'),\n",
       " ('spark.ui.showConsoleProgress', 'true')]"
      ]
     },
     "execution_count": 3,
     "metadata": {},
     "output_type": "execute_result"
    }
   ],
   "source": [
    "spark.sparkContext.getConf().getAll()"
   ]
  },
  {
   "cell_type": "markdown",
   "metadata": {},
   "source": [
    "# 2.加载和清洗数据\n",
    "在这个 Workspace 中，小数据集的名称是 `mini_sparkify_event_data.json.bz2`.加载和清洗数据集，检查是否有无效或缺失数据——例如，没有userid或sessionid的数据。 "
   ]
  },
  {
   "cell_type": "markdown",
   "metadata": {},
   "source": [
    "## 2.1-数据的加载与观察"
   ]
  },
  {
   "cell_type": "code",
   "execution_count": 4,
   "metadata": {},
   "outputs": [],
   "source": [
    "# 加载数据集\n",
    "df = spark.read.json('mini_sparkify_event_data.json.bz2')"
   ]
  },
  {
   "cell_type": "code",
   "execution_count": 5,
   "metadata": {},
   "outputs": [
    {
     "name": "stdout",
     "output_type": "stream",
     "text": [
      "root\n",
      " |-- artist: string (nullable = true)\n",
      " |-- auth: string (nullable = true)\n",
      " |-- firstName: string (nullable = true)\n",
      " |-- gender: string (nullable = true)\n",
      " |-- itemInSession: long (nullable = true)\n",
      " |-- lastName: string (nullable = true)\n",
      " |-- length: double (nullable = true)\n",
      " |-- level: string (nullable = true)\n",
      " |-- location: string (nullable = true)\n",
      " |-- method: string (nullable = true)\n",
      " |-- page: string (nullable = true)\n",
      " |-- registration: long (nullable = true)\n",
      " |-- sessionId: long (nullable = true)\n",
      " |-- song: string (nullable = true)\n",
      " |-- status: long (nullable = true)\n",
      " |-- ts: long (nullable = true)\n",
      " |-- userAgent: string (nullable = true)\n",
      " |-- userId: string (nullable = true)\n",
      "\n"
     ]
    }
   ],
   "source": [
    "# 查看数据集描述（方法1）\n",
    "df.printSchema()"
   ]
  },
  {
   "cell_type": "code",
   "execution_count": 6,
   "metadata": {},
   "outputs": [
    {
     "data": {
      "text/plain": [
       "DataFrame[summary: string, artist: string, auth: string, firstName: string, gender: string, itemInSession: string, lastName: string, length: string, level: string, location: string, method: string, page: string, registration: string, sessionId: string, song: string, status: string, ts: string, userAgent: string, userId: string]"
      ]
     },
     "execution_count": 6,
     "metadata": {},
     "output_type": "execute_result"
    }
   ],
   "source": [
    "# 查看数据集描述（方法2）\n",
    "df.describe()"
   ]
  },
  {
   "cell_type": "code",
   "execution_count": 7,
   "metadata": {},
   "outputs": [
    {
     "name": "stdout",
     "output_type": "stream",
     "text": [
      "+--------------+---------+---------+------+-------------+--------+---------+-----+---------------+------+--------+-------------+---------+---------+------+-------------+--------------------+------+\n",
      "|        artist|     auth|firstName|gender|itemInSession|lastName|   length|level|       location|method|    page| registration|sessionId|     song|status|           ts|           userAgent|userId|\n",
      "+--------------+---------+---------+------+-------------+--------+---------+-----+---------------+------+--------+-------------+---------+---------+------+-------------+--------------------+------+\n",
      "|Martha Tilston|Logged In|    Colin|     M|           50| Freeman|277.89016| paid|Bakersfield, CA|   PUT|NextSong|1538173362000|       29|Rockpools|   200|1538352117000|Mozilla/5.0 (Wind...|    30|\n",
      "+--------------+---------+---------+------+-------------+--------+---------+-----+---------------+------+--------+-------------+---------+---------+------+-------------+--------------------+------+\n",
      "only showing top 1 row\n",
      "\n"
     ]
    }
   ],
   "source": [
    "# 查看第一行数据\n",
    "df.show(1)"
   ]
  },
  {
   "cell_type": "code",
   "execution_count": 8,
   "metadata": {},
   "outputs": [
    {
     "data": {
      "text/plain": [
       "[Row(artist='Martha Tilston', auth='Logged In', firstName='Colin', gender='M', itemInSession=50, lastName='Freeman', length=277.89016, level='paid', location='Bakersfield, CA', method='PUT', page='NextSong', registration=1538173362000, sessionId=29, song='Rockpools', status=200, ts=1538352117000, userAgent='Mozilla/5.0 (Windows NT 6.1; WOW64; rv:31.0) Gecko/20100101 Firefox/31.0', userId='30'),\n",
       " Row(artist='Five Iron Frenzy', auth='Logged In', firstName='Micah', gender='M', itemInSession=79, lastName='Long', length=236.09424, level='free', location='Boston-Cambridge-Newton, MA-NH', method='PUT', page='NextSong', registration=1538331630000, sessionId=8, song='Canada', status=200, ts=1538352180000, userAgent='\"Mozilla/5.0 (Windows NT 6.1; WOW64) AppleWebKit/537.36 (KHTML, like Gecko) Chrome/37.0.2062.103 Safari/537.36\"', userId='9'),\n",
       " Row(artist='Adam Lambert', auth='Logged In', firstName='Colin', gender='M', itemInSession=51, lastName='Freeman', length=282.8273, level='paid', location='Bakersfield, CA', method='PUT', page='NextSong', registration=1538173362000, sessionId=29, song='Time For Miracles', status=200, ts=1538352394000, userAgent='Mozilla/5.0 (Windows NT 6.1; WOW64; rv:31.0) Gecko/20100101 Firefox/31.0', userId='30'),\n",
       " Row(artist='Enigma', auth='Logged In', firstName='Micah', gender='M', itemInSession=80, lastName='Long', length=262.71302, level='free', location='Boston-Cambridge-Newton, MA-NH', method='PUT', page='NextSong', registration=1538331630000, sessionId=8, song='Knocking On Forbidden Doors', status=200, ts=1538352416000, userAgent='\"Mozilla/5.0 (Windows NT 6.1; WOW64) AppleWebKit/537.36 (KHTML, like Gecko) Chrome/37.0.2062.103 Safari/537.36\"', userId='9'),\n",
       " Row(artist='Daft Punk', auth='Logged In', firstName='Colin', gender='M', itemInSession=52, lastName='Freeman', length=223.60771, level='paid', location='Bakersfield, CA', method='PUT', page='NextSong', registration=1538173362000, sessionId=29, song='Harder Better Faster Stronger', status=200, ts=1538352676000, userAgent='Mozilla/5.0 (Windows NT 6.1; WOW64; rv:31.0) Gecko/20100101 Firefox/31.0', userId='30')]"
      ]
     },
     "execution_count": 8,
     "metadata": {},
     "output_type": "execute_result"
    }
   ],
   "source": [
    "# 查看前5行数据\n",
    "df.take(5)"
   ]
  },
  {
   "cell_type": "code",
   "execution_count": 9,
   "metadata": {},
   "outputs": [
    {
     "name": "stdout",
     "output_type": "stream",
     "text": [
      "+-------+----------+------------------+-----------------+------+-------+--------------------+\n",
      "|summary|      auth|     itemInSession|           length|method|   page|                  ts|\n",
      "+-------+----------+------------------+-----------------+------+-------+--------------------+\n",
      "|  count|    286500|            286500|           228108|286500| 286500|              286500|\n",
      "|   mean|      null|114.41421291448516|249.1171819778458|  null|   null|1.540956889810483...|\n",
      "| stddev|      null|129.76726201140994|99.23517921058361|  null|   null|1.5075439608226302E9|\n",
      "|    min| Cancelled|                 0|          0.78322|   GET|  About|       1538352117000|\n",
      "|    max|Logged Out|              1321|       3024.66567|   PUT|Upgrade|       1543799476000|\n",
      "+-------+----------+------------------+-----------------+------+-------+--------------------+\n",
      "\n"
     ]
    }
   ],
   "source": [
    "# 查看部分含义不明确的变量\n",
    "df.describe('auth', 'itemInSession', 'length', 'method', 'page', 'ts').show()"
   ]
  },
  {
   "cell_type": "code",
   "execution_count": 10,
   "metadata": {},
   "outputs": [
    {
     "name": "stdout",
     "output_type": "stream",
     "text": [
      "+-------+--------------------+\n",
      "|summary|           userAgent|\n",
      "+-------+--------------------+\n",
      "|  count|              278154|\n",
      "|   mean|                null|\n",
      "| stddev|                null|\n",
      "|    min|\"Mozilla/5.0 (Mac...|\n",
      "|    max|Mozilla/5.0 (comp...|\n",
      "+-------+--------------------+\n",
      "\n"
     ]
    }
   ],
   "source": [
    "df.describe('userAgent').show()"
   ]
  },
  {
   "cell_type": "markdown",
   "metadata": {},
   "source": [
    "**其中auth、method、page、userAgent为分类变量，适合进一步了解其含义。**"
   ]
  },
  {
   "cell_type": "code",
   "execution_count": 11,
   "metadata": {},
   "outputs": [
    {
     "name": "stdout",
     "output_type": "stream",
     "text": [
      "+----------+\n",
      "|      auth|\n",
      "+----------+\n",
      "|Logged Out|\n",
      "| Cancelled|\n",
      "|     Guest|\n",
      "| Logged In|\n",
      "+----------+\n",
      "\n"
     ]
    }
   ],
   "source": [
    "df.select('auth').dropDuplicates().show()"
   ]
  },
  {
   "cell_type": "markdown",
   "metadata": {},
   "source": [
    "auth变量可能描述的是用户登录状态"
   ]
  },
  {
   "cell_type": "code",
   "execution_count": 12,
   "metadata": {},
   "outputs": [
    {
     "name": "stdout",
     "output_type": "stream",
     "text": [
      "+------+\n",
      "|method|\n",
      "+------+\n",
      "|   PUT|\n",
      "|   GET|\n",
      "+------+\n",
      "\n"
     ]
    }
   ],
   "source": [
    "df.select('method').dropDuplicates().show()"
   ]
  },
  {
   "cell_type": "markdown",
   "metadata": {},
   "source": [
    "method只有两种变量，get和put，无法理解其具体含义，猜测其与page变量关联较大"
   ]
  },
  {
   "cell_type": "code",
   "execution_count": 13,
   "metadata": {},
   "outputs": [
    {
     "name": "stdout",
     "output_type": "stream",
     "text": [
      "+--------------------+\n",
      "|                page|\n",
      "+--------------------+\n",
      "|              Cancel|\n",
      "|    Submit Downgrade|\n",
      "|         Thumbs Down|\n",
      "|                Home|\n",
      "|           Downgrade|\n",
      "|         Roll Advert|\n",
      "|              Logout|\n",
      "|       Save Settings|\n",
      "|Cancellation Conf...|\n",
      "|               About|\n",
      "| Submit Registration|\n",
      "|            Settings|\n",
      "|               Login|\n",
      "|            Register|\n",
      "|     Add to Playlist|\n",
      "|          Add Friend|\n",
      "|            NextSong|\n",
      "|           Thumbs Up|\n",
      "|                Help|\n",
      "|             Upgrade|\n",
      "+--------------------+\n",
      "only showing top 20 rows\n",
      "\n"
     ]
    }
   ],
   "source": [
    "df.select('page').dropDuplicates().show()"
   ]
  },
  {
   "cell_type": "markdown",
   "metadata": {},
   "source": [
    "page变量描述的内容为用户操作时所在页面"
   ]
  },
  {
   "cell_type": "code",
   "execution_count": 14,
   "metadata": {},
   "outputs": [
    {
     "name": "stdout",
     "output_type": "stream",
     "text": [
      "+--------------------+\n",
      "|           userAgent|\n",
      "+--------------------+\n",
      "|\"Mozilla/5.0 (Mac...|\n",
      "|\"Mozilla/5.0 (Win...|\n",
      "|Mozilla/5.0 (X11;...|\n",
      "|\"Mozilla/5.0 (Mac...|\n",
      "|\"Mozilla/5.0 (Mac...|\n",
      "|Mozilla/5.0 (Maci...|\n",
      "|Mozilla/5.0 (Wind...|\n",
      "|Mozilla/5.0 (Wind...|\n",
      "|Mozilla/5.0 (comp...|\n",
      "|\"Mozilla/5.0 (Win...|\n",
      "|Mozilla/5.0 (Maci...|\n",
      "|\"Mozilla/5.0 (Win...|\n",
      "|                null|\n",
      "|\"Mozilla/5.0 (iPh...|\n",
      "|\"Mozilla/5.0 (Win...|\n",
      "|Mozilla/5.0 (Wind...|\n",
      "|Mozilla/5.0 (comp...|\n",
      "|Mozilla/5.0 (comp...|\n",
      "|\"Mozilla/5.0 (Mac...|\n",
      "|\"Mozilla/5.0 (Mac...|\n",
      "+--------------------+\n",
      "only showing top 20 rows\n",
      "\n"
     ]
    }
   ],
   "source": [
    "df.select('userAgent').dropDuplicates().show()"
   ]
  },
  {
   "cell_type": "markdown",
   "metadata": {},
   "source": [
    "userAgent变量值较多，通过观察，其含义我认为是用户使用Sparkify应用的系统信息，包含操作系统，浏览器版本等内容"
   ]
  },
  {
   "cell_type": "code",
   "execution_count": 15,
   "metadata": {},
   "outputs": [
    {
     "data": {
      "text/plain": [
       "286500"
      ]
     },
     "execution_count": 15,
     "metadata": {},
     "output_type": "execute_result"
    }
   ],
   "source": [
    "# 查看有多少行数据\n",
    "df.count()"
   ]
  },
  {
   "cell_type": "markdown",
   "metadata": {},
   "source": [
    "**对变量的理解**  \n",
    "artist: 歌手  \n",
    "auth: 登录状态  \n",
    "firstName: 名  \n",
    "gender: 性别  \n",
    "itemInSession:(具体含义暂不明确)  \n",
    "lastName: 姓氏  \n",
    "length: 长度(听歌时长)  \n",
    "level: 会员等级  \n",
    "location: 地区  \n",
    "method: 方法(可能与page关联较大)  \n",
    "page: 请求页面  \n",
    "registration: 注册时间  \n",
    "sessionId: 页面ID  \n",
    "song: 歌曲   \n",
    "status: 状态  \n",
    "ts: (具体含义暂不明确)  \n",
    "userAgent: 用户使用平台信息  \n",
    "userId: 用户ID"
   ]
  },
  {
   "cell_type": "markdown",
   "metadata": {},
   "source": [
    "## 2.2-数据清理"
   ]
  },
  {
   "cell_type": "code",
   "execution_count": 16,
   "metadata": {},
   "outputs": [
    {
     "name": "stdout",
     "output_type": "stream",
     "text": [
      "+------+\n",
      "|userId|\n",
      "+------+\n",
      "|      |\n",
      "|    10|\n",
      "|   100|\n",
      "|100001|\n",
      "|100002|\n",
      "|100003|\n",
      "|100004|\n",
      "|100005|\n",
      "|100006|\n",
      "|100007|\n",
      "|100008|\n",
      "|100009|\n",
      "|100010|\n",
      "|100011|\n",
      "|100012|\n",
      "|100013|\n",
      "|100014|\n",
      "|100015|\n",
      "|100016|\n",
      "|100017|\n",
      "+------+\n",
      "only showing top 20 rows\n",
      "\n"
     ]
    }
   ],
   "source": [
    "# 删除空值\n",
    "df_dropna = df.dropna(how= 'any', subset = ['userId', 'sessionId'])\n",
    "# 验证是否还存在空值\n",
    "df_dropna.select('userId').dropDuplicates().sort('userId').show()"
   ]
  },
  {
   "cell_type": "markdown",
   "metadata": {},
   "source": [
    "发现userId变量中还存在空用户，需要继续处理"
   ]
  },
  {
   "cell_type": "code",
   "execution_count": 17,
   "metadata": {},
   "outputs": [
    {
     "name": "stdout",
     "output_type": "stream",
     "text": [
      "+------+\n",
      "|userId|\n",
      "+------+\n",
      "|    10|\n",
      "|   100|\n",
      "|100001|\n",
      "+------+\n",
      "only showing top 3 rows\n",
      "\n"
     ]
    }
   ],
   "source": [
    "# 处理userId中的空用户\n",
    "df_dropna = df_dropna.filter(df_dropna['userId'] != '')\n",
    "# 验证处理结果\n",
    "df_dropna.select('userId').dropDuplicates().sort('userId').show(3)"
   ]
  },
  {
   "cell_type": "code",
   "execution_count": 18,
   "metadata": {},
   "outputs": [
    {
     "data": {
      "text/plain": [
       "(8346, 278154)"
      ]
     },
     "execution_count": 18,
     "metadata": {},
     "output_type": "execute_result"
    }
   ],
   "source": [
    "# 查看多少行数据被删除，剩余多少数据\n",
    "df.count() - df_dropna.count(), df_dropna.count()"
   ]
  },
  {
   "cell_type": "markdown",
   "metadata": {},
   "source": [
    "# 3.探索性数据分析\n",
    "当你使用完整数据集时，通过加载小数据集，在 Spark 中完成基础操作来实现探索性数据分析。在这个 Workspace 中，我们已经提供给你一个你可以探索的小数据集。\n",
    "\n",
    "### 3.1-定义客户流失\n",
    "\n",
    "在你完成初步分析之后，创建一列 `Churn` 作为模型的标签。我建议你使用 `Cancellation Confirmation` 事件来定义客户流失，该事件在付费或免费客户身上都有发生。作为一个奖励任务，你也可以深入了解 `Downgrade` 事件。\n",
    "\n",
    "根据之前对数据集的了解，`Cancellation Confirmation`与`Downgrade`事件为`page`变量中的两项，`Cancellation Confirmation`为**确认注销**，`Downgrade`为**降级**。"
   ]
  },
  {
   "cell_type": "code",
   "execution_count": 19,
   "metadata": {},
   "outputs": [
    {
     "name": "stdout",
     "output_type": "stream",
     "text": [
      "+----------+\n",
      "|churn_temp|\n",
      "+----------+\n",
      "|         1|\n",
      "|         0|\n",
      "+----------+\n",
      "\n"
     ]
    }
   ],
   "source": [
    "# 新建标签，标记page中的Cancellation Confirmation事件，并将转换后的数据改为int型\n",
    "churn_label = udf(lambda x:1 if x == 'Cancellation Confirmation' else 0, IntegerType())\n",
    "# 将标记后的数据添加至数据集，列名为churn_temp\n",
    "df_new = df_dropna.withColumn('churn_temp', churn_label('page'))\n",
    "# 验证数据\n",
    "df_new.select('churn_temp').dropDuplicates().show()"
   ]
  },
  {
   "cell_type": "markdown",
   "metadata": {},
   "source": [
    "虽然标记了**\"确认注销\"**页面，但同时还要标记与之对应的用户"
   ]
  },
  {
   "cell_type": "code",
   "execution_count": 20,
   "metadata": {},
   "outputs": [
    {
     "name": "stdout",
     "output_type": "stream",
     "text": [
      "+------+-----+\n",
      "|userId|churn|\n",
      "+------+-----+\n",
      "|100010|    0|\n",
      "|200002|    0|\n",
      "|   125|    1|\n",
      "|   124|    0|\n",
      "|    51|    1|\n",
      "+------+-----+\n",
      "only showing top 5 rows\n",
      "\n"
     ]
    }
   ],
   "source": [
    "# 标记userId与churn中的数据对应\n",
    "group_val = Window.partitionBy('userId')\n",
    "df_new = df_new.withColumn('churn', max('churn_temp').over(group_val))\n",
    "# 验证数据\n",
    "df_new.select('userId', 'churn').dropDuplicates().show(5)"
   ]
  },
  {
   "cell_type": "markdown",
   "metadata": {},
   "source": [
    "由于新添加了列，再次查看数据集"
   ]
  },
  {
   "cell_type": "code",
   "execution_count": 21,
   "metadata": {},
   "outputs": [
    {
     "name": "stdout",
     "output_type": "stream",
     "text": [
      "root\n",
      " |-- artist: string (nullable = true)\n",
      " |-- auth: string (nullable = true)\n",
      " |-- firstName: string (nullable = true)\n",
      " |-- gender: string (nullable = true)\n",
      " |-- itemInSession: long (nullable = true)\n",
      " |-- lastName: string (nullable = true)\n",
      " |-- length: double (nullable = true)\n",
      " |-- level: string (nullable = true)\n",
      " |-- location: string (nullable = true)\n",
      " |-- method: string (nullable = true)\n",
      " |-- page: string (nullable = true)\n",
      " |-- registration: long (nullable = true)\n",
      " |-- sessionId: long (nullable = true)\n",
      " |-- song: string (nullable = true)\n",
      " |-- status: long (nullable = true)\n",
      " |-- ts: long (nullable = true)\n",
      " |-- userAgent: string (nullable = true)\n",
      " |-- userId: string (nullable = true)\n",
      " |-- churn_temp: integer (nullable = true)\n",
      " |-- churn: integer (nullable = true)\n",
      "\n"
     ]
    }
   ],
   "source": [
    "df_new.printSchema()"
   ]
  },
  {
   "cell_type": "code",
   "execution_count": 22,
   "metadata": {},
   "outputs": [
    {
     "data": {
      "text/plain": [
       "Row(artist='Sleeping With Sirens', auth='Logged In', firstName='Darianna', gender='F', itemInSession=0, lastName='Carpenter', length=202.97098, level='free', location='Bridgeport-Stamford-Norwalk, CT', method='PUT', page='NextSong', registration=1538016340000, sessionId=31, song='Captain Tyin Knots VS Mr Walkway (No Way)', status=200, ts=1539003534000, userAgent='\"Mozilla/5.0 (iPhone; CPU iPhone OS 7_1_2 like Mac OS X) AppleWebKit/537.51.2 (KHTML, like Gecko) Version/7.0 Mobile/11D257 Safari/9537.53\"', userId='100010', churn_temp=0, churn=0)"
      ]
     },
     "execution_count": 22,
     "metadata": {},
     "output_type": "execute_result"
    }
   ],
   "source": [
    "df_new.head()"
   ]
  },
  {
   "cell_type": "code",
   "execution_count": 23,
   "metadata": {},
   "outputs": [
    {
     "data": {
      "text/plain": [
       "(278154, 278154)"
      ]
     },
     "execution_count": 23,
     "metadata": {},
     "output_type": "execute_result"
    }
   ],
   "source": [
    "# 与之前数据集的行数对比\n",
    "df_new.count(), df_dropna.count()"
   ]
  },
  {
   "cell_type": "markdown",
   "metadata": {},
   "source": [
    "### 3.2-探索数据\n",
    "你定义好客户流失后，就可以执行一些探索性数据分析，观察留存用户和流失用户的行为。你可以首先把这两类用户的数据聚合到一起，观察固定时间内某个特定动作出现的次数或者播放音乐的数量。"
   ]
  },
  {
   "cell_type": "markdown",
   "metadata": {},
   "source": [
    "### 3.2.1-删除账户的用户与用户等级的关系"
   ]
  },
  {
   "cell_type": "code",
   "execution_count": 24,
   "metadata": {},
   "outputs": [
    {
     "data": {
      "text/html": [
       "<div>\n",
       "<style scoped>\n",
       "    .dataframe tbody tr th:only-of-type {\n",
       "        vertical-align: middle;\n",
       "    }\n",
       "\n",
       "    .dataframe tbody tr th {\n",
       "        vertical-align: top;\n",
       "    }\n",
       "\n",
       "    .dataframe thead th {\n",
       "        text-align: right;\n",
       "    }\n",
       "</style>\n",
       "<table border=\"1\" class=\"dataframe\">\n",
       "  <thead>\n",
       "    <tr style=\"text-align: right;\">\n",
       "      <th></th>\n",
       "      <th>level</th>\n",
       "      <th>count</th>\n",
       "    </tr>\n",
       "  </thead>\n",
       "  <tbody>\n",
       "    <tr>\n",
       "      <th>0</th>\n",
       "      <td>free</td>\n",
       "      <td>21</td>\n",
       "    </tr>\n",
       "    <tr>\n",
       "      <th>1</th>\n",
       "      <td>paid</td>\n",
       "      <td>31</td>\n",
       "    </tr>\n",
       "  </tbody>\n",
       "</table>\n",
       "</div>"
      ],
      "text/plain": [
       "  level  count\n",
       "0  free     21\n",
       "1  paid     31"
      ]
     },
     "execution_count": 24,
     "metadata": {},
     "output_type": "execute_result"
    }
   ],
   "source": [
    "# 提取churn与level特征，整理排序\n",
    "churn_level_df = df_new.filter('page == \"Cancellation Confirmation\"') \\\n",
    "    .groupby('level') \\\n",
    "    .count() \\\n",
    "    .toPandas()\n",
    "# 验证输出\n",
    "churn_level_df.head(5)"
   ]
  },
  {
   "cell_type": "code",
   "execution_count": 25,
   "metadata": {},
   "outputs": [
    {
     "data": {
      "image/png": "[encoded data removed]",
      "text/plain": [
       "<matplotlib.figure.Figure at 0x7fe96b6773c8>"
      ]
     },
     "metadata": {
      "needs_background": "light"
     },
     "output_type": "display_data"
    }
   ],
   "source": [
    "# 使用直方图探索churn与level的关系\n",
    "churn_level_df.plot.bar();"
   ]
  },
  {
   "cell_type": "markdown",
   "metadata": {},
   "source": [
    "- 付费用户注销数量比免费用户更多"
   ]
  },
  {
   "cell_type": "markdown",
   "metadata": {},
   "source": [
    "### 3.2.2-删除账户的用户与性别的关系"
   ]
  },
  {
   "cell_type": "code",
   "execution_count": 26,
   "metadata": {},
   "outputs": [
    {
     "data": {
      "text/html": [
       "<div>\n",
       "<style scoped>\n",
       "    .dataframe tbody tr th:only-of-type {\n",
       "        vertical-align: middle;\n",
       "    }\n",
       "\n",
       "    .dataframe tbody tr th {\n",
       "        vertical-align: top;\n",
       "    }\n",
       "\n",
       "    .dataframe thead th {\n",
       "        text-align: right;\n",
       "    }\n",
       "</style>\n",
       "<table border=\"1\" class=\"dataframe\">\n",
       "  <thead>\n",
       "    <tr style=\"text-align: right;\">\n",
       "      <th></th>\n",
       "      <th>churn</th>\n",
       "      <th>gender</th>\n",
       "      <th>count</th>\n",
       "    </tr>\n",
       "  </thead>\n",
       "  <tbody>\n",
       "    <tr>\n",
       "      <th>0</th>\n",
       "      <td>0</td>\n",
       "      <td>M</td>\n",
       "      <td>89</td>\n",
       "    </tr>\n",
       "    <tr>\n",
       "      <th>1</th>\n",
       "      <td>0</td>\n",
       "      <td>F</td>\n",
       "      <td>84</td>\n",
       "    </tr>\n",
       "    <tr>\n",
       "      <th>2</th>\n",
       "      <td>1</td>\n",
       "      <td>F</td>\n",
       "      <td>20</td>\n",
       "    </tr>\n",
       "    <tr>\n",
       "      <th>3</th>\n",
       "      <td>1</td>\n",
       "      <td>M</td>\n",
       "      <td>32</td>\n",
       "    </tr>\n",
       "  </tbody>\n",
       "</table>\n",
       "</div>"
      ],
      "text/plain": [
       "   churn gender  count\n",
       "0      0      M     89\n",
       "1      0      F     84\n",
       "2      1      F     20\n",
       "3      1      M     32"
      ]
     },
     "execution_count": 26,
     "metadata": {},
     "output_type": "execute_result"
    }
   ],
   "source": [
    "# 提取churn与gender特征，整理排序\n",
    "churn_gender_df = df_new.dropDuplicates(['userId', 'gender']) \\\n",
    "    .groupby(['churn', 'gender']) \\\n",
    "    .count() \\\n",
    "    .sort('churn') \\\n",
    "    .toPandas()\n",
    "# 验证输出\n",
    "churn_gender_df.head(5)"
   ]
  },
  {
   "cell_type": "code",
   "execution_count": 27,
   "metadata": {},
   "outputs": [
    {
     "data": {
      "image/png": "[encoded data removed]",
      "text/plain": [
       "<matplotlib.figure.Figure at 0x7fe96b8cda58>"
      ]
     },
     "metadata": {
      "needs_background": "light"
     },
     "output_type": "display_data"
    }
   ],
   "source": [
    "# 通过直方图探索churn与gender的关系\n",
    "ax = sns.barplot(x = 'churn', y = 'count', hue = 'gender', data = churn_gender_df)\n",
    "plt.xlabel(\"Has user delete the account\")\n",
    "plt.ylabel(\"Count\")\n",
    "plt.title(\"Gender ratio of users who delete the account\");"
   ]
  },
  {
   "cell_type": "markdown",
   "metadata": {},
   "source": [
    "- 男性用户比女性用户删除账户的人数更多\n",
    "- 删除账户的比例对一款应用来说比较高\n",
    "- app可能对男性吸引力更大"
   ]
  },
  {
   "cell_type": "markdown",
   "metadata": {},
   "source": [
    "# 4.特征工程\n",
    "熟悉了数据之后，就可以构建你认为会对训练模型帮助最大的特征。要处理完整数据集，你可以按照下述步骤：\n",
    "- 写一个脚本来从小数据集中提取你需要的特征\n",
    "- 确保你的脚本可以拓展到大数据集上，使用之前教过的最佳实践原则\n",
    "- 在完整数据集上运行你的脚本，按运行情况调试代码\n",
    "\n",
    "如果是在教室的 workspace，你可以直接用里面提供的小数据集来提取特征。确保当你开始使用 Spark 集群的时候，把上述的成果迁移到大数据集上。"
   ]
  },
  {
   "cell_type": "markdown",
   "metadata": {},
   "source": [
    "## 4.1-提取特征"
   ]
  },
  {
   "cell_type": "markdown",
   "metadata": {},
   "source": [
    "### 4.1.1-特征：用户听过的歌手数量"
   ]
  },
  {
   "cell_type": "code",
   "execution_count": 28,
   "metadata": {},
   "outputs": [
    {
     "name": "stdout",
     "output_type": "stream",
     "text": [
      "+-------+------------------+-----------------+\n",
      "|summary|            userId|       sum_artist|\n",
      "+-------+------------------+-----------------+\n",
      "|  count|               225|              225|\n",
      "|   mean|65391.013333333336|696.3777777777777|\n",
      "| stddev|105396.47791907164|603.9518698630802|\n",
      "|    min|                10|                3|\n",
      "|    max|                99|             3544|\n",
      "+-------+------------------+-----------------+\n",
      "\n"
     ]
    }
   ],
   "source": [
    "# 汇总每个用户听过的歌手数量\n",
    "feature_artists = df_new.filter(df_new.page == 'NextSong') \\\n",
    "    .select('userId', 'artist') \\\n",
    "    .dropDuplicates() \\\n",
    "    .groupBy('userId') \\\n",
    "    .count() \\\n",
    "    .withColumnRenamed('count', 'sum_artist')\n",
    "# 验证结果\n",
    "feature_artists.describe().show()"
   ]
  },
  {
   "cell_type": "markdown",
   "metadata": {},
   "source": [
    "### 4.1.2-特征：性别"
   ]
  },
  {
   "cell_type": "code",
   "execution_count": 29,
   "metadata": {},
   "outputs": [
    {
     "name": "stdout",
     "output_type": "stream",
     "text": [
      "+-------+------------------+-------------------+\n",
      "|summary|            userId|             gender|\n",
      "+-------+------------------+-------------------+\n",
      "|  count|               225|                225|\n",
      "|   mean|65391.013333333336| 0.4622222222222222|\n",
      "| stddev|105396.47791907165|0.49968243883744773|\n",
      "|    min|                10|                  0|\n",
      "|    max|                99|                  1|\n",
      "+-------+------------------+-------------------+\n",
      "\n"
     ]
    }
   ],
   "source": [
    "# 将性别改为可计算的数值类型，男性为0，女性为1\n",
    "feature_gender = df_new.select('userId', 'gender') \\\n",
    "    .dropDuplicates() \\\n",
    "    .replace(['M', 'F'], ['0', '1'], 'gender') \\\n",
    "    .select('userId', col('gender').cast('int'))\n",
    "# 验证结果\n",
    "feature_gender.describe().show()"
   ]
  },
  {
   "cell_type": "markdown",
   "metadata": {},
   "source": [
    "### 4.1.3-特征：用户听歌时长"
   ]
  },
  {
   "cell_type": "code",
   "execution_count": 30,
   "metadata": {},
   "outputs": [
    {
     "name": "stdout",
     "output_type": "stream",
     "text": [
      "+-------+------------------+------------------+\n",
      "|summary|            userId|    listening_time|\n",
      "+-------+------------------+------------------+\n",
      "|  count|               225|               225|\n",
      "|   mean|65391.013333333336|252558.32065155543|\n",
      "| stddev|105396.47791907164| 275396.4038847635|\n",
      "|    min|                10|         691.66884|\n",
      "|    max|                99|1991154.9155799907|\n",
      "+-------+------------------+------------------+\n",
      "\n"
     ]
    }
   ],
   "source": [
    "# 用户听歌时长\n",
    "feature_length = df_new.select('userId', 'length') \\\n",
    "    .groupBy('userId') \\\n",
    "    .sum() \\\n",
    "    .withColumnRenamed('sum(length)', 'listening_time')\n",
    "# 验证结果\n",
    "feature_length.describe().show()"
   ]
  },
  {
   "cell_type": "markdown",
   "metadata": {},
   "source": [
    "### 4.1.4-特征：用户所听歌曲总和"
   ]
  },
  {
   "cell_type": "code",
   "execution_count": 31,
   "metadata": {},
   "outputs": [
    {
     "name": "stdout",
     "output_type": "stream",
     "text": [
      "+-------+------------------+-----------------+\n",
      "|summary|            userId|         sum_song|\n",
      "+-------+------------------+-----------------+\n",
      "|  count|               225|              225|\n",
      "|   mean|65391.013333333336|          1236.24|\n",
      "| stddev|105396.47791907164|1329.531716432519|\n",
      "|    min|                10|                6|\n",
      "|    max|                99|             9632|\n",
      "+-------+------------------+-----------------+\n",
      "\n"
     ]
    }
   ],
   "source": [
    "# 每个用户所听歌曲的数量\n",
    "feature_songs = df_new.select('userId', 'song') \\\n",
    "    .groupBy('userId') \\\n",
    "    .count() \\\n",
    "    .withColumnRenamed('count', 'sum_song')\n",
    "# 验证操作\n",
    "feature_songs.describe().show()"
   ]
  },
  {
   "cell_type": "markdown",
   "metadata": {},
   "source": [
    "### 4.1.5-特征：有多少歌曲被加入播放列表"
   ]
  },
  {
   "cell_type": "code",
   "execution_count": 32,
   "metadata": {},
   "outputs": [
    {
     "name": "stdout",
     "output_type": "stream",
     "text": [
      "+-------+------------------+-----------------+\n",
      "|summary|            userId|      add_to_play|\n",
      "+-------+------------------+-----------------+\n",
      "|  count|               215|              215|\n",
      "|   mean| 66103.63720930232|30.35348837209302|\n",
      "| stddev|106360.47999565038| 32.8520568555997|\n",
      "|    min|                10|                1|\n",
      "|    max|                99|              240|\n",
      "+-------+------------------+-----------------+\n",
      "\n"
     ]
    }
   ],
   "source": [
    "# 被加入播放列表歌曲的数量\n",
    "feature_ATP = df_new.select('userId', 'page') \\\n",
    "    .where(df_new.page == 'Add to Playlist') \\\n",
    "    .groupBy('userId') \\\n",
    "    .count() \\\n",
    "    .withColumnRenamed('count', 'add_to_play')\n",
    "# 验证操作\n",
    "feature_ATP.describe().show()"
   ]
  },
  {
   "cell_type": "markdown",
   "metadata": {},
   "source": [
    "### 4.1.6-特征：会员等级"
   ]
  },
  {
   "cell_type": "code",
   "execution_count": 33,
   "metadata": {},
   "outputs": [
    {
     "name": "stdout",
     "output_type": "stream",
     "text": [
      "+-------+------------------+------------------+\n",
      "|summary|            userId|             level|\n",
      "+-------+------------------+------------------+\n",
      "|  count|               360|               360|\n",
      "|   mean| 64780.23888888889|0.4583333333333333|\n",
      "| stddev|106080.85223362078|0.4989543383465812|\n",
      "|    min|                10|                 0|\n",
      "|    max|                99|                 1|\n",
      "+-------+------------------+------------------+\n",
      "\n"
     ]
    }
   ],
   "source": [
    "# 将level改为可计算的数值类型，免费为0，付费为1\n",
    "feature_level = df_new.select('userId', 'level') \\\n",
    "    .dropDuplicates() \\\n",
    "    .replace(['free', 'paid'], ['0', '1'], 'level') \\\n",
    "    .select('userId', col('level').cast('int'))\n",
    "# 验证结果\n",
    "feature_level.describe().show()"
   ]
  },
  {
   "cell_type": "markdown",
   "metadata": {},
   "source": [
    "逻辑计算后f1分数较低，并且该特征与用户是否删除账户的关系应该不大，该特征暂时不参与计算。"
   ]
  },
  {
   "cell_type": "markdown",
   "metadata": {},
   "source": [
    "### 4.1.7-标记'churn'"
   ]
  },
  {
   "cell_type": "code",
   "execution_count": 34,
   "metadata": {},
   "outputs": [
    {
     "name": "stdout",
     "output_type": "stream",
     "text": [
      "+-------+------------------+------------------+\n",
      "|summary|            userId|             label|\n",
      "+-------+------------------+------------------+\n",
      "|  count|               225|               225|\n",
      "|   mean|65391.013333333336|0.2311111111111111|\n",
      "| stddev|105396.47791907164|0.4224832108996327|\n",
      "|    min|                10|                 0|\n",
      "|    max|                99|                 1|\n",
      "+-------+------------------+------------------+\n",
      "\n"
     ]
    }
   ],
   "source": [
    "# 获取‘churn'标记\n",
    "label_churn = df_new.select('userId', col('churn').alias('label')).dropDuplicates()\n",
    "# 验证操作\n",
    "label_churn.describe().show()"
   ]
  },
  {
   "cell_type": "markdown",
   "metadata": {},
   "source": [
    "## 4.2-整合所有特征\n",
    "将以上所有特征整合至一个数据集中"
   ]
  },
  {
   "cell_type": "code",
   "execution_count": 35,
   "metadata": {},
   "outputs": [
    {
     "name": "stdout",
     "output_type": "stream",
     "text": [
      "+----------+------+------------------+--------+-----------+-----+\n",
      "|sum_artist|gender|    listening_time|sum_song|add_to_play|label|\n",
      "+----------+------+------------------+--------+-----------+-----+\n",
      "|       252|     1| 66940.89735000003|     381|          7|    0|\n",
      "|       339|     0| 94008.87593999993|     474|          8|    0|\n",
      "|         8|     0|2089.1131000000005|      11|          0|    1|\n",
      "|      2232|     1|1012312.0927899999|    4825|        118|    0|\n",
      "|      1385|     0| 523275.8428000004|    2464|         52|    1|\n",
      "+----------+------+------------------+--------+-----------+-----+\n",
      "only showing top 5 rows\n",
      "\n"
     ]
    }
   ],
   "source": [
    "# 整合特征值，准备进行线性代数运算\n",
    "# 按照userId为索引整合数据时，有部分值缺失，将其用0填充\n",
    "df_feature = feature_artists.join(feature_gender, 'userId', 'outer') \\\n",
    "    .join(feature_length, 'userId', 'outer') \\\n",
    "    .join(feature_songs, 'userId', 'outer') \\\n",
    "    .join(feature_ATP, 'userId', 'outer') \\\n",
    "    .join(label_churn, 'userId', 'outer') \\\n",
    "    .fillna(0) \\\n",
    "    .drop('userId')\n",
    "\n",
    "# 查看整合后的数据集\n",
    "df_feature.show(5)"
   ]
  },
  {
   "cell_type": "code",
   "execution_count": 39,
   "metadata": {},
   "outputs": [
    {
     "name": "stdout",
     "output_type": "stream",
     "text": [
      "+-------+-----------------+------------------+------------------+-----------------+------------------+------------------+\n",
      "|summary|       sum_artist|            gender|    listening_time|         sum_song|       add_to_play|             label|\n",
      "+-------+-----------------+------------------+------------------+-----------------+------------------+------------------+\n",
      "|  count|              225|               225|               225|              225|               225|               225|\n",
      "|   mean|696.3777777777777|0.4622222222222222|252558.32065155543|          1236.24|29.004444444444445|0.2311111111111111|\n",
      "| stddev|603.9518698630802|0.4996824388374478| 275396.4038847635|1329.531716432519|32.716653931055426|0.4224832108996327|\n",
      "|    min|                3|                 0|         691.66884|                6|                 0|                 0|\n",
      "|    max|             3544|                 1|1991154.9155799907|             9632|               240|                 1|\n",
      "+-------+-----------------+------------------+------------------+-----------------+------------------+------------------+\n",
      "\n"
     ]
    }
   ],
   "source": [
    "df_feature.describe().show()"
   ]
  },
  {
   "cell_type": "markdown",
   "metadata": {},
   "source": [
    "# 5.建模\n",
    "将完整数据集分成训练集、测试集和验证集。测试几种你学过的机器学习方法。评价不同机器学习方法的准确率，根据情况调节参数。根据准确率你挑选出表现最好的那个模型，然后报告在训练集上的结果。因为流失顾客数据集很小，我建议选用 F1 score 作为优化指标。"
   ]
  },
  {
   "cell_type": "markdown",
   "metadata": {},
   "source": [
    "## 5.1-转换数据"
   ]
  },
  {
   "cell_type": "code",
   "execution_count": 40,
   "metadata": {},
   "outputs": [],
   "source": [
    "# 将特征工程中的数据集转换为可供模型计算的结构\n",
    "# level特征暂不参与运算\n",
    "columns = ['sum_artist', 'gender', 'listening_time', 'sum_song', 'add_to_play']\n",
    "assembler = VectorAssembler(inputCols = columns, outputCol = 'features_matrix')\n",
    "data = assembler.transform(df_feature)"
   ]
  },
  {
   "cell_type": "code",
   "execution_count": 41,
   "metadata": {},
   "outputs": [],
   "source": [
    "# 将模型中的数据变为机器学习时的标准数据范围\n",
    "scaler = StandardScaler(inputCol = 'features_matrix', outputCol = 'features')\n",
    "scalerModel = scaler.fit(data)\n",
    "data = scalerModel.transform(data)"
   ]
  },
  {
   "cell_type": "code",
   "execution_count": 42,
   "metadata": {},
   "outputs": [
    {
     "name": "stdout",
     "output_type": "stream",
     "text": [
      "+-------+-----------------+------------------+------------------+-----------------+------------------+------------------+\n",
      "|summary|       sum_artist|            gender|    listening_time|         sum_song|       add_to_play|             label|\n",
      "+-------+-----------------+------------------+------------------+-----------------+------------------+------------------+\n",
      "|  count|              225|               225|               225|              225|               225|               225|\n",
      "|   mean|696.3777777777777|0.4622222222222222|252558.32065155543|          1236.24|29.004444444444445|0.2311111111111111|\n",
      "| stddev|603.9518698630802|0.4996824388374478| 275396.4038847635|1329.531716432519|32.716653931055426|0.4224832108996327|\n",
      "|    min|                3|                 0|         691.66884|                6|                 0|                 0|\n",
      "|    max|             3544|                 1|1991154.9155799907|             9632|               240|                 1|\n",
      "+-------+-----------------+------------------+------------------+-----------------+------------------+------------------+\n",
      "\n"
     ]
    }
   ],
   "source": [
    "data.describe().show()"
   ]
  },
  {
   "cell_type": "code",
   "execution_count": 44,
   "metadata": {},
   "outputs": [],
   "source": [
    "# 分割数据集\n",
    "train, test, validation = data.randomSplit([0.6, 0.2, 0.2])"
   ]
  },
  {
   "cell_type": "code",
   "execution_count": 45,
   "metadata": {},
   "outputs": [
    {
     "name": "stdout",
     "output_type": "stream",
     "text": [
      "+-------+-----------------+-------------------+------------------+------------------+-----------------+-------------------+\n",
      "|summary|       sum_artist|             gender|    listening_time|          sum_song|      add_to_play|              label|\n",
      "+-------+-----------------+-------------------+------------------+------------------+-----------------+-------------------+\n",
      "|  count|              153|                153|               153|               153|              153|                153|\n",
      "|   mean|693.9607843137255|0.45751633986928103|  248760.414819281|1217.0522875816994|28.61437908496732|0.20915032679738563|\n",
      "| stddev|577.5115501505364| 0.4998279717822813|256466.86592151693|  1237.46118381893|30.55821109891538| 0.4080375816547486|\n",
      "|    min|                3|                  0|         691.66884|                 6|                0|                  0|\n",
      "|    max|             2904|                  1| 1491493.286370003|              7230|              181|                  1|\n",
      "+-------+-----------------+-------------------+------------------+------------------+-----------------+-------------------+\n",
      "\n"
     ]
    }
   ],
   "source": [
    "train.describe().show()"
   ]
  },
  {
   "cell_type": "markdown",
   "metadata": {},
   "source": [
    "## 5.2-逻辑回归"
   ]
  },
  {
   "cell_type": "code",
   "execution_count": 39,
   "metadata": {},
   "outputs": [],
   "source": [
    "# 初始化逻辑回归\n",
    "lr = LogisticRegression(maxIter=5)\n",
    "\n",
    "# 设置评估标准\n",
    "f1_score = MulticlassClassificationEvaluator(metricName = 'f1')\n",
    "\n",
    "# 建立paramGrid\n",
    "paramGrid = ParamGridBuilder().build()\n",
    "\n",
    "lr_crossval = CrossValidator(estimator=lr,\n",
    "                             estimatorParamMaps=paramGrid,\n",
    "                             evaluator=f1_score)"
   ]
  },
  {
   "cell_type": "code",
   "execution_count": 40,
   "metadata": {},
   "outputs": [
    {
     "name": "stdout",
     "output_type": "stream",
     "text": [
      "训练集计算用时 621.6461043357849秒\n"
     ]
    }
   ],
   "source": [
    "# 将数据集代入模型计算\n",
    "# 记录运算时间，时间是衡量算法好坏的一个标准\n",
    "start = time()\n",
    "crossval_model = lr_crossval.fit(train)\n",
    "end = time()\n",
    "crossval_model.avgMetrics\n",
    "print(\"训练集计算用时 {}秒\".format(end - start))"
   ]
  },
  {
   "cell_type": "code",
   "execution_count": 41,
   "metadata": {},
   "outputs": [],
   "source": [
    "# 训练之后，通过验证集查看命中率\n",
    "lr_result = crossval_model.transform(validation)"
   ]
  },
  {
   "cell_type": "code",
   "execution_count": 42,
   "metadata": {},
   "outputs": [
    {
     "name": "stdout",
     "output_type": "stream",
     "text": [
      "逻辑回归分数:\n",
      "准确度: 0.7333333333333333\n",
      "f1分数: 0.6205128205128204\n",
      "验证集计算准确度与f1分数用时 166.5191752910614秒\n"
     ]
    }
   ],
   "source": [
    "# 查看结果\n",
    "evaluator = MulticlassClassificationEvaluator(predictionCol = 'prediction')\n",
    "print(\"逻辑回归分数:\")\n",
    "start = time()\n",
    "print(\"准确度: {}\".format(evaluator.evaluate(lr_result, {evaluator.metricName:'accuracy'})))\n",
    "print(\"f1分数: {}\".format(evaluator.evaluate(lr_result, {evaluator.metricName:'f1'})))\n",
    "end = time()\n",
    "print(\"验证集计算准确度与f1分数用时 {}秒\".format(end - start))"
   ]
  },
  {
   "cell_type": "markdown",
   "metadata": {},
   "source": [
    "## 5.3-SVM"
   ]
  },
  {
   "cell_type": "code",
   "execution_count": 43,
   "metadata": {},
   "outputs": [],
   "source": [
    "# 初始化SVM\n",
    "svm = LinearSVC(maxIter=5)\n",
    "\n",
    "# 设置评估标准\n",
    "f1_score = MulticlassClassificationEvaluator(metricName = 'f1')\n",
    "\n",
    "# 建立paramGrid\n",
    "paramGrid = ParamGridBuilder().build()\n",
    "\n",
    "svm_crossval = CrossValidator(estimator=svm,\n",
    "                              estimatorParamMaps=paramGrid,\n",
    "                              evaluator=f1_score)"
   ]
  },
  {
   "cell_type": "code",
   "execution_count": 44,
   "metadata": {},
   "outputs": [
    {
     "name": "stdout",
     "output_type": "stream",
     "text": [
      "训练集计算用时 678.8315546512604秒\n"
     ]
    }
   ],
   "source": [
    "# 将数据集代入模型计算\n",
    "start = time()\n",
    "svm_crossval_model = svm_crossval.fit(train)\n",
    "end = time()\n",
    "svm_crossval_model.avgMetrics\n",
    "print(\"训练集计算用时 {}秒\".format(end - start))"
   ]
  },
  {
   "cell_type": "code",
   "execution_count": 45,
   "metadata": {},
   "outputs": [],
   "source": [
    "# 训练之后，通过验证集查看命中率\n",
    "svm_result = svm_crossval_model.transform(validation)"
   ]
  },
  {
   "cell_type": "code",
   "execution_count": 46,
   "metadata": {},
   "outputs": [
    {
     "name": "stdout",
     "output_type": "stream",
     "text": [
      "SVM分数:\n",
      "准确度: 0.7333333333333333\n",
      "f1分数: 0.6205128205128204\n",
      "验证集计算准确度与f1分数用时 164.45260095596313秒\n"
     ]
    }
   ],
   "source": [
    "# 查看结果\n",
    "evaluator = MulticlassClassificationEvaluator(predictionCol = 'prediction')\n",
    "print(\"SVM分数:\")\n",
    "start = time()\n",
    "print(\"准确度: {}\".format(evaluator.evaluate(svm_result, {evaluator.metricName:'accuracy'})))\n",
    "print(\"f1分数: {}\".format(evaluator.evaluate(svm_result, {evaluator.metricName:'f1'})))\n",
    "end = time()\n",
    "print(\"验证集计算准确度与f1分数用时 {}秒\".format(end - start))"
   ]
  },
  {
   "cell_type": "markdown",
   "metadata": {},
   "source": [
    "## 5.4-随机森林"
   ]
  },
  {
   "cell_type": "code",
   "execution_count": 39,
   "metadata": {},
   "outputs": [],
   "source": [
    "# 初始化random forest\n",
    "rf = RandomForestClassifier()\n",
    "\n",
    "# 设置评估标准\n",
    "f1_score = MulticlassClassificationEvaluator(metricName = 'f1')\n",
    "\n",
    "# 建立paramGrid\n",
    "paramGrid = ParamGridBuilder().build()\n",
    "\n",
    "rf_crossval = CrossValidator(estimator=rf,\n",
    "                              estimatorParamMaps=paramGrid,\n",
    "                              evaluator=f1_score)"
   ]
  },
  {
   "cell_type": "code",
   "execution_count": 40,
   "metadata": {},
   "outputs": [
    {
     "name": "stdout",
     "output_type": "stream",
     "text": [
      "训练集计算用时 893.3043823242188秒\n"
     ]
    }
   ],
   "source": [
    "# 将数据集代入模型计算\n",
    "# 记录运算时间，时间是衡量算法好坏的一个标准\n",
    "start = time()\n",
    "rf_crossval_model = rf_crossval.fit(train)\n",
    "end = time()\n",
    "rf_crossval_model.avgMetrics\n",
    "print(\"训练集计算用时 {}秒\".format(end - start))"
   ]
  },
  {
   "cell_type": "code",
   "execution_count": 41,
   "metadata": {},
   "outputs": [],
   "source": [
    "# 训练之后，通过验证集查看命中率\n",
    "rf_result = rf_crossval_model.transform(validation)"
   ]
  },
  {
   "cell_type": "code",
   "execution_count": 42,
   "metadata": {},
   "outputs": [
    {
     "name": "stdout",
     "output_type": "stream",
     "text": [
      "随机森林分数:\n",
      "准确度: 0.8108108108108109\n",
      "f1分数: 0.7745058491327147\n",
      "验证集计算准确度与f1分数用时 190.8820571899414秒\n"
     ]
    }
   ],
   "source": [
    "# 查看结果\n",
    "evaluator = MulticlassClassificationEvaluator(predictionCol = 'prediction')\n",
    "print(\"随机森林分数:\")\n",
    "start = time()\n",
    "print(\"准确度: {}\".format(evaluator.evaluate(rf_result, {evaluator.metricName:'accuracy'})))\n",
    "print(\"f1分数: {}\".format(evaluator.evaluate(rf_result, {evaluator.metricName:'f1'})))\n",
    "end = time()\n",
    "print(\"验证集计算准确度与f1分数用时 {}秒\".format(end - start))"
   ]
  },
  {
   "cell_type": "markdown",
   "metadata": {},
   "source": [
    "## 5.5-计算结果\n",
    "- 逻辑回归模型的准确度为 0.7333，f1分数为 0.6205，耗时 621秒\n",
    "- SVM（支持向量机）模型的准确度为 0.7333，f1分数为 0.6205，耗时678秒\n",
    "- 随机森林模型的准确度为 0.7111，f1分数为 0.6095，耗时 741秒\n",
    "\n",
    "从计算结果上看逻辑回归和支持向量机的结果相同，但逻辑回归更快。随机森林准确度与f1分数均小于前者，同时也是耗费时间最多的算法。考虑到未来在更大的数据集上计算，时间是一个重要的考虑因素，且逻辑回归与SVM相同，选用逻辑回归算法在完整数据集上运行。"
   ]
  },
  {
   "cell_type": "markdown",
   "metadata": {},
   "source": [
    "# 6.总结\n",
    "\n",
    "在特征工程中，开始我将level作为特征，导入逻辑回归模型计算，结果并不理想。去掉level特征后，准确度与f1分数均有10%左右的提升。将逻辑回归算法导入完整数据集计算之前，后续还可以进行其他工作。\n",
    "- 该结果缺少参考标准。可以计算没有用户删除账户与所有用户删除账户的情况，其分数作为模型选择的参考依据。\n",
    "- 可以改进算法参数，使其准确率与f1分数更高。\n",
    "- 还有部分机器学习算法未使用，也许未使用的算法中有更好的结果。"
   ]
  },
  {
   "cell_type": "markdown",
   "metadata": {},
   "source": [
    "# 最后一步\n",
    "清理你的代码，添加注释和重命名变量，使得代码更易读和易于维护。参考 Spark 项目概述页面和数据科学家毕业项目审阅要求，确保你的项目包含了毕业项目要求的所有内容，并且满足所有审阅要求。记得在 GitHub 代码库里包含一份全面的文档——README文件，以及一个网络应用程序或博客文章。"
   ]
  },
  {
   "cell_type": "code",
   "execution_count": null,
   "metadata": {},
   "outputs": [],
   "source": []
  }
 ],
 "metadata": {
  "kernelspec": {
   "display_name": "Python 3",
   "language": "python",
   "name": "python3"
  },
  "language_info": {
   "codemirror_mode": {
    "name": "ipython",
    "version": 3
   },
   "file_extension": ".py",
   "mimetype": "text/x-python",
   "name": "python",
   "nbconvert_exporter": "python",
   "pygments_lexer": "ipython3",
   "version": "3.6.3"
  }
 },
 "nbformat": 4,
 "nbformat_minor": 2
}
